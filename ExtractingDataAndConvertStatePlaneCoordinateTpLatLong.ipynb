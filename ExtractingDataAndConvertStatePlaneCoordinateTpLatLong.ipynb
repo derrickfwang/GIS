{
 "cells": [
  {
   "cell_type": "markdown",
   "metadata": {},
   "source": [
    "# Shape File Processing"
   ]
  },
  {
   "cell_type": "code",
   "execution_count": 1,
   "metadata": {
    "collapsed": false
   },
   "outputs": [],
   "source": [
    "import os \n",
    "os.chdir(r'C:...')"
   ]
  },
  {
   "cell_type": "code",
   "execution_count": 2,
   "metadata": {
    "collapsed": false
   },
   "outputs": [],
   "source": [
    "import shapefile\n",
    "shape = shapefile.Reader(\"....shp\")\n",
    "#shp = shape.shapeRecords()\n",
    "#first feature of the shapefile\n",
    "#feature = shape.shapeRecords()[0]\n",
    "#first = feature.shape.__geo_interface__  \n"
   ]
  },
  {
   "cell_type": "code",
   "execution_count": 3,
   "metadata": {
    "collapsed": false
   },
   "outputs": [],
   "source": [
    "record = shape.records()"
   ]
  },
  {
   "cell_type": "code",
   "execution_count": 4,
   "metadata": {
    "collapsed": false
   },
   "outputs": [
    {
     "data": {
      "text/plain": [
       "[('DeletionFlag', 'C', 1, 0),\n",
       " ['HCAD_NUM', 'C', 13, 0],\n",
       " ['BLK_NUM', 'C', 20, 0],\n",
       " ['LOT_NUM', 'C', 30, 0],\n",
       " ['CONDO_FLAG', 'C', 1, 0],\n",
       " ['parcel_typ', 'C', 2, 0],\n",
       " ['CurrOwner', 'C', 100, 0],\n",
       " ['LocAddr', 'C', 82, 0],\n",
       " ['city', 'C', 50, 0],\n",
       " ['zip', 'C', 10, 0],\n",
       " ['LocNum', 'N', 10, 0],\n",
       " ['LocName', 'C', 50, 0],\n",
       " ['mill_cd', 'C', 16, 0],\n",
       " ['Shape_area', 'F', 19, 11],\n",
       " ['Shape_len', 'F', 19, 11]]"
      ]
     },
     "execution_count": 4,
     "metadata": {},
     "output_type": "execute_result"
    }
   ],
   "source": [
    "shape.fields"
   ]
  },
  {
   "cell_type": "code",
   "execution_count": 5,
   "metadata": {
    "collapsed": true
   },
   "outputs": [],
   "source": [
    "colList = ['HCAD_NUM','BLK_NUM', 'LOT_NUM', 'CONDO_FLAG', 'parcel_typ', 'CurrOwner', 'LocAddr', 'city', 'zip', 'LocNum', \n",
    "           'LocName', 'mill_cd', 'Shape_area', 'Shape_len']"
   ]
  },
  {
   "cell_type": "code",
   "execution_count": 6,
   "metadata": {
    "collapsed": false
   },
   "outputs": [
    {
     "data": {
      "text/plain": [
       "1395475"
      ]
     },
     "execution_count": 6,
     "metadata": {},
     "output_type": "execute_result"
    }
   ],
   "source": [
    "#first.shape.__geo_interface__\n",
    "import pandas as pd\n",
    "Rst = pd.DataFrame(record, columns = colList)\n",
    "len(Rst)"
   ]
  },
  {
   "cell_type": "code",
   "execution_count": 7,
   "metadata": {
    "collapsed": false
   },
   "outputs": [],
   "source": [
    "import numpy as np\n",
    "Rst['Lat'] = np.NaN\n",
    "Rst['Lon'] = np.NaN"
   ]
  },
  {
   "cell_type": "code",
   "execution_count": 8,
   "metadata": {
    "collapsed": false,
    "scrolled": true
   },
   "outputs": [
    {
     "data": {
      "text/plain": [
       "shapefile.Reader"
      ]
     },
     "execution_count": 8,
     "metadata": {},
     "output_type": "execute_result"
    }
   ],
   "source": [
    "shapes = shape.shapes()\n",
    "type(shape)"
   ]
  },
  {
   "cell_type": "code",
   "execution_count": 9,
   "metadata": {
    "collapsed": false
   },
   "outputs": [],
   "source": [
    "# note: the parameters for the Proj() can be found in the *.prj file\n",
    "\n",
    "import pyproj\n",
    "from pyproj import Proj\n",
    "pnxy = Proj(proj='lcc', datum='NAD83', lat_1=28.38333333333333, lat_2 = 30.28333333333333,\n",
    "           lat_0=27.83333333333333, lon_0=-99.0, x_0=1968500.0*0.3048, y_0=13123333.33333333*0.3048)\n",
    "def ConvertToLatLong(x, y):\n",
    "    lon, lat = pnxy(x*0.3048, y*0.3048, inverse=True)\n",
    "    return lat, lon "
   ]
  },
  {
   "cell_type": "code",
   "execution_count": 10,
   "metadata": {
    "collapsed": false
   },
   "outputs": [
    {
     "data": {
      "text/plain": [
       "(29.683601989303824, -95.57473558999395)"
      ]
     },
     "execution_count": 10,
     "metadata": {},
     "output_type": "execute_result"
    }
   ],
   "source": [
    "x = 3055927\n",
    "y = 13812027\n",
    "ConvertToLatLong(x, y)"
   ]
  },
  {
   "cell_type": "code",
   "execution_count": 11,
   "metadata": {
    "collapsed": true
   },
   "outputs": [],
   "source": [
    "os.chdir(r'C:....')"
   ]
  },
  {
   "cell_type": "code",
   "execution_count": 12,
   "metadata": {
    "collapsed": false
   },
   "outputs": [
    {
     "data": {
      "text/plain": [
       "1395475"
      ]
     },
     "execution_count": 12,
     "metadata": {},
     "output_type": "execute_result"
    }
   ],
   "source": [
    "shpLen = len(shapes)\n",
    "shpLen"
   ]
  },
  {
   "cell_type": "code",
   "execution_count": 23,
   "metadata": {
    "collapsed": false
   },
   "outputs": [],
   "source": [
    "def processSlice1(cyc, ln, nRow, j):\n",
    "    if cyc < ln//nRow:\n",
    "        shape1 = shapes[cyc*nRow:(cyc+1)*nRow]\n",
    "        for i in range(nRow):\n",
    "            j=j+1\n",
    "            print(i, j)\n",
    "            cord = shape1[i].bbox\n",
    "            x = (cord[0] + cord[2]) /2\n",
    "            y = (cord[1] + cord[3]) /2\n",
    "            try:\n",
    "                lat, lon = ConvertToLatLong(x, y)\n",
    "                Rst['Lat'][j] = lat\n",
    "                Rst['Lon'][j] = lon\n",
    "            except:\n",
    "                pass\n",
    "        Rst[cyc*nRow:(cyc+1)*nRow].to_csv('Rst'+ str(cyc) + '.csv', index=False)\n",
    "        return j\n",
    "    elif cyc == ln//nRow:\n",
    "        shape1 = shapes[cyc*nRow:ln]\n",
    "        for i in range(len(shape1)):\n",
    "            j=j+1\n",
    "            cord = shape1[i].bbox\n",
    "            x = (cord[0] + cord[2]) /2\n",
    "            y = (cord[1] + cord[3]) /2\n",
    "            try:\n",
    "                lat, lon = ConvertToLatLong(x, y)\n",
    "                Rst['Lat'][j] = lat\n",
    "                Rst['Lon'][j] = lon\n",
    "            except:\n",
    "                pass\n",
    "        Rst[cyc*nRow:(cyc+1)*nRow].to_csv('Rst'+ str(cyc) + '.csv', index=False)\n",
    "        return j\n",
    "    else:\n",
    "        pass\n"
   ]
  },
  {
   "cell_type": "code",
   "execution_count": 26,
   "metadata": {
    "collapsed": false
   },
   "outputs": [],
   "source": [
    "ln = len(shapes)\n",
    "nRow = 1000\n",
    "N_Cyc = ln//nRow + 1\n",
    "\n",
    "j = 0\n",
    "for cyc in range(N_Cyc):\n",
    "    print('Cycle ', cyc)\n",
    "    j = processSlice1(cyc, ln, nRow, j)\n",
    "    "
   ]
  },
  {
   "cell_type": "code",
   "execution_count": 27,
   "metadata": {
    "collapsed": true
   },
   "outputs": [],
   "source": [
    "Rst1['HCAD_NUM'] = 'A' + Rst1['HCAD_NUM']"
   ]
  },
  {
   "cell_type": "code",
   "execution_count": 28,
   "metadata": {
    "collapsed": true
   },
   "outputs": [],
   "source": [
    "Rst1.to_csv('All_in_one.csv', index=False)"
   ]
  },
  {
   "cell_type": "code",
   "execution_count": null,
   "metadata": {
    "collapsed": true
   },
   "outputs": [],
   "source": []
  }
 ],
 "metadata": {
  "anaconda-cloud": {},
  "kernelspec": {
   "display_name": "Python [default]",
   "language": "python",
   "name": "python3"
  },
  "language_info": {
   "codemirror_mode": {
    "name": "ipython",
    "version": 3
   },
   "file_extension": ".py",
   "mimetype": "text/x-python",
   "name": "python",
   "nbconvert_exporter": "python",
   "pygments_lexer": "ipython3",
   "version": "3.5.5"
  }
 },
 "nbformat": 4,
 "nbformat_minor": 1
}
